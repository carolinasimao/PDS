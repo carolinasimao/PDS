{
 "cells": [
  {
   "cell_type": "code",
   "execution_count": 7,
   "metadata": {},
   "outputs": [],
   "source": [
    "import pandas as pd"
   ]
  },
  {
   "cell_type": "code",
   "execution_count": 47,
   "metadata": {
    "scrolled": false
   },
   "outputs": [],
   "source": [
    "travel=pd.read_csv('travel.csv', delimiter=\";\", index_col=[0,1], \n",
    "                    usecols=[\"Country Code\",\"Country Name\",\"2010\",\"2011\",\"2012\",\"2013\",\"2014\",\"2015\",\"2016\",\"2017\"]).fillna(0)\n",
    "\n",
    "income=pd.read_csv('income.csv', delimiter=\";\", index_col=[0,1],\n",
    "                    usecols=[\"Country Code\",\"IncomeGroup\",]).fillna(0)\n",
    "\n",
    "business=pd.read_csv('business.csv', delimiter=\";\", index_col=[0,1],\n",
    "                    usecols=[\"Country Code\",\"Country Name\",\"2010\",\"2011\",\"2012\",\"2013\",\"2014\",\"2015\",\"2016\",\"2017\"]).fillna(0)\n",
    "\n",
    "clean_fuels=pd.read_csv('clean_fuels.csv', delimiter=\";\", index_col=[0,1],\n",
    "                    usecols=[\"Country Code\",\"Country Name\",\"2010\",\"2011\",\"2012\",\"2013\",\"2014\",\"2015\",\"2016\",\"2017\"]).fillna(0)\n",
    "\n",
    "co2=pd.read_csv('co2.csv', delimiter=\";\", index_col=[0,1],\n",
    "                    usecols=[\"Country Code\",\"Country Name\",\"2010\",\"2011\",\"2012\",\"2013\",\"2014\",\"2015\",\"2016\",\"2017\"]).fillna(0)\n",
    "\n",
    "gdp=pd.read_csv('gdp.csv', delimiter=\";\", index_col=[0,1],\n",
    "                    usecols=[\"Country Code\",\"Country Name\",\"2010\",\"2011\",\"2012\",\"2013\",\"2014\",\"2015\",\"2016\",\"2017\"]).fillna(0)\n",
    "\n",
    "homicides=pd.read_csv('homicides.csv', delimiter=\";\", index_col=[0,1], \n",
    "                    usecols=[\"Country Code\",\"Country Name\",\"2010\",\"2011\",\"2012\",\"2013\",\"2014\",\"2015\",\"2016\",\"2017\"]).fillna(0)\n",
    "\n",
    "population=pd.read_csv('population.csv', delimiter=\";\", index_col=[0,1],\n",
    "                    usecols=[\"Country Code\",\"Country Name\",\"2010\",\"2011\",\"2012\",\"2013\",\"2014\",\"2015\",\"2016\",\"2017\"]).fillna(0)\n",
    "\n",
    "precipitation=pd.read_csv('precipitation.csv', delimiter=\";\", index_col=[0,1],\n",
    "                    usecols=[\"Country Code\",\"Country Name\",\"2010\",\"2011\",\"2012\",\"2013\",\"2014\",\"2015\",\"2016\",\"2017\"]).fillna(0)\n",
    "\n",
    "tourism_receipts=pd.read_csv('tourism_receipts.csv', delimiter=\";\", index_col=[0,1],\n",
    "                    usecols=[\"Country Code\",\"Country Name\",\"2010\",\"2011\",\"2012\",\"2013\",\"2014\",\"2015\",\"2016\",\"2017\"]).fillna(0)\n"
   ]
  },
  {
   "cell_type": "code",
   "execution_count": null,
   "metadata": {},
   "outputs": [],
   "source": []
  }
 ],
 "metadata": {
  "kernelspec": {
   "display_name": "Python 3",
   "language": "python",
   "name": "python3"
  },
  "language_info": {
   "codemirror_mode": {
    "name": "ipython",
    "version": 3
   },
   "file_extension": ".py",
   "mimetype": "text/x-python",
   "name": "python",
   "nbconvert_exporter": "python",
   "pygments_lexer": "ipython3",
   "version": "3.7.3"
  }
 },
 "nbformat": 4,
 "nbformat_minor": 2
}
